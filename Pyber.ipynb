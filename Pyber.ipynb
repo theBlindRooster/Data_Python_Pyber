{
 "cells": [
  {
   "cell_type": "code",
   "execution_count": 1,
   "metadata": {
    "collapsed": true
   },
   "outputs": [],
   "source": [
    "# Import Dependencies\n",
    "import pandas as pd\n",
    "import numpy as np\n",
    "import matplotlib.pyplot as plt"
   ]
  },
  {
   "cell_type": "code",
   "execution_count": 2,
   "metadata": {},
   "outputs": [
    {
     "data": {
      "text/plain": [
       "Index(['city', 'driver_count', 'type'], dtype='object')"
      ]
     },
     "execution_count": 2,
     "metadata": {},
     "output_type": "execute_result"
    }
   ],
   "source": [
    "file1=\"raw_data/city_data.csv\"\n",
    "file2=\"raw_data/ride_data.csv\"\n",
    "city=pd.read_csv(file1)\n",
    "ride=pd.read_csv(file2)\n",
    "ride.columns\n",
    "city.columns"
   ]
  },
  {
   "cell_type": "code",
   "execution_count": 3,
   "metadata": {},
   "outputs": [],
   "source": [
    "grpCity=city.groupby([\"city\"])\n",
    "grpCityDF=grpCity[\"driver_count\"].sum()\n"
   ]
  },
  {
   "cell_type": "code",
   "execution_count": 4,
   "metadata": {},
   "outputs": [
    {
     "data": {
      "text/html": [
       "<div>\n",
       "<style>\n",
       "    .dataframe thead tr:only-child th {\n",
       "        text-align: right;\n",
       "    }\n",
       "\n",
       "    .dataframe thead th {\n",
       "        text-align: left;\n",
       "    }\n",
       "\n",
       "    .dataframe tbody tr th {\n",
       "        vertical-align: top;\n",
       "    }\n",
       "</style>\n",
       "<table border=\"1\" class=\"dataframe\">\n",
       "  <thead>\n",
       "    <tr style=\"text-align: right;\">\n",
       "      <th></th>\n",
       "      <th>city</th>\n",
       "      <th>driver_count</th>\n",
       "      <th>type</th>\n",
       "      <th>Avg Fare</th>\n",
       "      <th>Total Rides</th>\n",
       "    </tr>\n",
       "  </thead>\n",
       "  <tbody>\n",
       "    <tr>\n",
       "      <th>48</th>\n",
       "      <td>Port Johnstad</td>\n",
       "      <td>22</td>\n",
       "      <td>Urban</td>\n",
       "      <td>25.88</td>\n",
       "      <td>34</td>\n",
       "    </tr>\n",
       "    <tr>\n",
       "      <th>28</th>\n",
       "      <td>Swansonbury</td>\n",
       "      <td>64</td>\n",
       "      <td>Urban</td>\n",
       "      <td>27.46</td>\n",
       "      <td>34</td>\n",
       "    </tr>\n",
       "    <tr>\n",
       "      <th>15</th>\n",
       "      <td>South Louis</td>\n",
       "      <td>12</td>\n",
       "      <td>Urban</td>\n",
       "      <td>27.09</td>\n",
       "      <td>32</td>\n",
       "    </tr>\n",
       "    <tr>\n",
       "      <th>84</th>\n",
       "      <td>Port James</td>\n",
       "      <td>15</td>\n",
       "      <td>Suburban</td>\n",
       "      <td>31.81</td>\n",
       "      <td>32</td>\n",
       "    </tr>\n",
       "    <tr>\n",
       "      <th>85</th>\n",
       "      <td>Port James</td>\n",
       "      <td>3</td>\n",
       "      <td>Suburban</td>\n",
       "      <td>31.81</td>\n",
       "      <td>32</td>\n",
       "    </tr>\n",
       "  </tbody>\n",
       "</table>\n",
       "</div>"
      ],
      "text/plain": [
       "             city  driver_count      type  Avg Fare  Total Rides\n",
       "48  Port Johnstad            22     Urban     25.88           34\n",
       "28    Swansonbury            64     Urban     27.46           34\n",
       "15    South Louis            12     Urban     27.09           32\n",
       "84     Port James            15  Suburban     31.81           32\n",
       "85     Port James             3  Suburban     31.81           32"
      ]
     },
     "execution_count": 4,
     "metadata": {},
     "output_type": "execute_result"
    }
   ],
   "source": [
    "grpRide = ride.groupby([\"city\"])\n",
    "avgFare=round(grpRide[\"fare\"].mean(),2)\n",
    "sumRides=grpRide[\"ride_id\"].count()\n",
    "sumRides.head()\n",
    "\n",
    "rideSum = pd.DataFrame({\"Avg Fare\":avgFare,\"Total Rides\":sumRides})\n",
    "rideSum = rideSum.reset_index()\n",
    "data=pd.merge(city,rideSum,on=\"city\")\n",
    "data.sort_values(\"Total Rides\", ascending=False).head()"
   ]
  },
  {
   "cell_type": "code",
   "execution_count": 70,
   "metadata": {},
   "outputs": [
    {
     "data": {
      "image/png": "[encoded data removed]",
      "text/plain": [
       "<matplotlib.figure.Figure at 0x2a2ebf04a20>"
      ]
     },
     "metadata": {},
     "output_type": "display_data"
    }
   ],
   "source": [
    "# X-Axis should be AVG Fare\n",
    "# Y-Axis number of rides\n",
    "# size of dot is driver count\n",
    "\n",
    "# Tells matplotlib that we want to make a scatter plot\n",
    "# The size of each point on our plot is determined by their x value\n",
    "plt.scatter(data[\"Avg Fare\"], data[\"Total Rides\"], marker=\"o\", facecolors=\"red\", s=data[\"driver_count\"])\n",
    "plt.show()"
   ]
  },
  {
   "cell_type": "code",
   "execution_count": 64,
   "metadata": {},
   "outputs": [
    {
     "data": {
      "text/html": [
       "<div>\n",
       "<style>\n",
       "    .dataframe thead tr:only-child th {\n",
       "        text-align: right;\n",
       "    }\n",
       "\n",
       "    .dataframe thead th {\n",
       "        text-align: left;\n",
       "    }\n",
       "\n",
       "    .dataframe tbody tr th {\n",
       "        vertical-align: top;\n",
       "    }\n",
       "</style>\n",
       "<table border=\"1\" class=\"dataframe\">\n",
       "  <thead>\n",
       "    <tr style=\"text-align: right;\">\n",
       "      <th></th>\n",
       "      <th>type</th>\n",
       "      <th>Fare</th>\n",
       "      <th>% Total Fares</th>\n",
       "    </tr>\n",
       "  </thead>\n",
       "  <tbody>\n",
       "    <tr>\n",
       "      <th>0</th>\n",
       "      <td>Rural</td>\n",
       "      <td>4255.09</td>\n",
       "      <td>0.066850</td>\n",
       "    </tr>\n",
       "    <tr>\n",
       "      <th>1</th>\n",
       "      <td>Suburban</td>\n",
       "      <td>20335.69</td>\n",
       "      <td>0.319486</td>\n",
       "    </tr>\n",
       "    <tr>\n",
       "      <th>2</th>\n",
       "      <td>Urban</td>\n",
       "      <td>40078.34</td>\n",
       "      <td>0.629655</td>\n",
       "    </tr>\n",
       "  </tbody>\n",
       "</table>\n",
       "</div>"
      ],
      "text/plain": [
       "       type      Fare  % Total Fares\n",
       "0     Rural   4255.09       0.066850\n",
       "1  Suburban  20335.69       0.319486\n",
       "2     Urban  40078.34       0.629655"
      ]
     },
     "execution_count": 64,
     "metadata": {},
     "output_type": "execute_result"
    }
   ],
   "source": [
    "totalFares = ride[\"fare\"].sum()\n",
    "totalRides = data[\"Total Rides\"].sum()\n",
    "totalDrivers = data[\"driver_count\"].sum()\n",
    "\n",
    "mrgCity=pd.merge(city,ride,on=\"city\",how=\"left\")\n",
    "grpMrgCity=mrgCity.groupby([\"type\"])\n",
    "fareCityType = grpMrgCity[\"fare\"].sum()\n",
    "\n",
    "dfFare=pd.DataFrame({\"Fare\":fareCityType})\n",
    "dfFare = dfFare.reset_index()\n",
    "\n",
    "dfFare[\"% Total Fares\"]=dfFare[\"Fare\"]/totalFares\n",
    "dfFare"
   ]
  },
  {
   "cell_type": "code",
   "execution_count": null,
   "metadata": {
    "collapsed": true
   },
   "outputs": [],
   "source": []
  }
 ],
 "metadata": {
  "kernelspec": {
   "display_name": "Python 3",
   "language": "python",
   "name": "python3"
  },
  "language_info": {
   "codemirror_mode": {
    "name": "ipython",
    "version": 3
   },
   "file_extension": ".py",
   "mimetype": "text/x-python",
   "name": "python",
   "nbconvert_exporter": "python",
   "pygments_lexer": "ipython3",
   "version": "3.6.3"
  }
 },
 "nbformat": 4,
 "nbformat_minor": 2
}
